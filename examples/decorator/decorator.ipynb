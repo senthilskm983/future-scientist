{
 "cells": [
  {
   "cell_type": "code",
   "execution_count": 2,
   "metadata": {
    "scrolled": true
   },
   "outputs": [
    {
     "name": "stdout",
     "output_type": "stream",
     "text": [
      "2 3\n"
     ]
    },
    {
     "data": {
      "text/plain": [
       "7"
      ]
     },
     "execution_count": 2,
     "metadata": {},
     "output_type": "execute_result"
    }
   ],
   "source": [
    "def sum_num(a,b):\n",
    "    print(a,b)\n",
    "    return (a+1)+(b+1)\n",
    "\n",
    "sum_num(2,3)"
   ]
  },
  {
   "cell_type": "code",
   "execution_count": 5,
   "metadata": {},
   "outputs": [
    {
     "name": "stdout",
     "output_type": "stream",
     "text": [
      "Decorator\n",
      "2 3\n"
     ]
    },
    {
     "data": {
      "text/plain": [
       "7"
      ]
     },
     "execution_count": 5,
     "metadata": {},
     "output_type": "execute_result"
    }
   ],
   "source": [
    "def dec(f):\n",
    "    def inner_func(*args,**kwargs):\n",
    "        print('Decorator')\n",
    "        print(*args,**kwargs)\n",
    "        a = args[0] + 1\n",
    "        b = args[1] + 1\n",
    "        return f(a,b)\n",
    "    return inner_func\n",
    "\n",
    "@dec\n",
    "def sum_num(a,b):\n",
    "    return a+b\n",
    "\n",
    "sum_num(2,3)"
   ]
  },
  {
   "cell_type": "code",
   "execution_count": 8,
   "metadata": {},
   "outputs": [
    {
     "name": "stdout",
     "output_type": "stream",
     "text": [
      "Arg inside dec: 10 12\n",
      "Arg inside inner_func: 10 12\n",
      "Decorator\n",
      "2 3\n"
     ]
    },
    {
     "data": {
      "text/plain": [
       "7"
      ]
     },
     "execution_count": 8,
     "metadata": {},
     "output_type": "execute_result"
    }
   ],
   "source": [
    "def main_dec(arg1, arg2):\n",
    "    def dec(f):\n",
    "        print('Arg inside dec:', arg1, arg2)\n",
    "        def inner_func(*args,**kwargs):\n",
    "            print('Arg inside inner_func:', arg1, arg2)\n",
    "            print('Decorator')\n",
    "            print(*args,**kwargs)\n",
    "            a = args[0] + 1\n",
    "            b = args[1] + 1\n",
    "            return f(a,b)\n",
    "        return inner_func\n",
    "    return dec\n",
    "\n",
    "@main_dec(12,14)\n",
    "def sum_num(a,b):\n",
    "    return a+b\n",
    "\n",
    "sum_num(2,3)"
   ]
  }
 ],
 "metadata": {
  "kernelspec": {
   "display_name": "Python 3",
   "language": "python",
   "name": "python3"
  },
  "language_info": {
   "codemirror_mode": {
    "name": "ipython",
    "version": 3
   },
   "file_extension": ".py",
   "mimetype": "text/x-python",
   "name": "python",
   "nbconvert_exporter": "python",
   "pygments_lexer": "ipython3",
   "version": "3.7.6"
  }
 },
 "nbformat": 4,
 "nbformat_minor": 2
}
